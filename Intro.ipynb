{
 "cells": [
  {
   "cell_type": "code",
   "execution_count": 3,
   "id": "2fd2e596",
   "metadata": {},
   "outputs": [],
   "source": [
    "import tensorflow as tf\n",
    "import warnings\n",
    "warnings.filterwarnings('ignore')"
   ]
  },
  {
   "cell_type": "markdown",
   "id": "b6ef421c",
   "metadata": {},
   "source": [
    "# Tensor\n",
    "Tensores é a generialização de vetores e matrizes(arrays multidimencionais) para dimensoes potencialmente maiores.\n",
    "Os tensores possuem um \"Data Type\" uniforme e possuem um \"Shape\" que representa a dimensão do dado."
   ]
  },
  {
   "cell_type": "markdown",
   "id": "a0b578e9",
   "metadata": {},
   "source": [
    "## Criando um Tensor"
   ]
  },
  {
   "cell_type": "code",
   "execution_count": 5,
   "id": "32810008",
   "metadata": {},
   "outputs": [],
   "source": [
    "string = tf.Variable('Isto é uma string', tf.string)\n",
    "number = tf.Variable(324, tf.int16)\n",
    "floating = tf.Variable(3.567, tf.float64)"
   ]
  },
  {
   "cell_type": "markdown",
   "id": "9b3b9294",
   "metadata": {},
   "source": [
    "## Classificação de Tensores\n",
    "Rank ou Degree é um termo que significa simplesmente o número de dimensões involvidas no tensor. Os tensores criados acima possuem um rank 0 e são chamados de escalares (scalar)."
   ]
  },
  {
   "cell_type": "code",
   "execution_count": 20,
   "id": "60dc52e5",
   "metadata": {},
   "outputs": [],
   "source": [
    "rank1_tensor = tf.Variable(['Teste', 'ok', 'yes'], tf.string)\n",
    "rank2_tensor = tf.Variable([['teste', 'ok'], ['teste', 'positivo']], tf.string)"
   ]
  },
  {
   "cell_type": "code",
   "execution_count": 21,
   "id": "de2f312b",
   "metadata": {},
   "outputs": [
    {
     "data": {
      "text/plain": [
       "<tf.Tensor: shape=(), dtype=int32, numpy=0>"
      ]
     },
     "execution_count": 21,
     "metadata": {},
     "output_type": "execute_result"
    }
   ],
   "source": [
    "tf.rank(string)"
   ]
  },
  {
   "cell_type": "code",
   "execution_count": 22,
   "id": "524e89b0",
   "metadata": {},
   "outputs": [
    {
     "data": {
      "text/plain": [
       "<tf.Tensor: shape=(), dtype=int32, numpy=1>"
      ]
     },
     "execution_count": 22,
     "metadata": {},
     "output_type": "execute_result"
    }
   ],
   "source": [
    "tf.rank(rank1_tensor)"
   ]
  },
  {
   "cell_type": "code",
   "execution_count": 23,
   "id": "64b6e8c8",
   "metadata": {},
   "outputs": [
    {
     "data": {
      "text/plain": [
       "<tf.Tensor: shape=(), dtype=int32, numpy=2>"
      ]
     },
     "execution_count": 23,
     "metadata": {},
     "output_type": "execute_result"
    }
   ],
   "source": [
    "tf.rank(rank2_tensor)"
   ]
  },
  {
   "cell_type": "markdown",
   "id": "5649abfd",
   "metadata": {},
   "source": [
    "## Shape dos Tensores\n",
    "O Shape do tensor é a quantidade de elementos que existem em cada dimensão. Pode acontecer do shape ser unknown(desconhecido).  \n",
    "Shape é um atributo do objeto Tensor"
   ]
  },
  {
   "cell_type": "code",
   "execution_count": 26,
   "id": "d7348270",
   "metadata": {},
   "outputs": [
    {
     "data": {
      "text/plain": [
       "TensorShape([])"
      ]
     },
     "execution_count": 26,
     "metadata": {},
     "output_type": "execute_result"
    }
   ],
   "source": [
    "string.shape"
   ]
  },
  {
   "cell_type": "code",
   "execution_count": 27,
   "id": "ec62ea24",
   "metadata": {},
   "outputs": [
    {
     "data": {
      "text/plain": [
       "TensorShape([3])"
      ]
     },
     "execution_count": 27,
     "metadata": {},
     "output_type": "execute_result"
    }
   ],
   "source": [
    "rank1_tensor.shape"
   ]
  },
  {
   "cell_type": "code",
   "execution_count": 28,
   "id": "69b93b06",
   "metadata": {},
   "outputs": [
    {
     "data": {
      "text/plain": [
       "TensorShape([2, 2])"
      ]
     },
     "execution_count": 28,
     "metadata": {},
     "output_type": "execute_result"
    }
   ],
   "source": [
    "rank2_tensor.shape"
   ]
  },
  {
   "cell_type": "code",
   "execution_count": null,
   "id": "38fcd1b6",
   "metadata": {},
   "outputs": [],
   "source": []
  }
 ],
 "metadata": {
  "kernelspec": {
   "display_name": "Python 3 (ipykernel)",
   "language": "python",
   "name": "python3"
  },
  "language_info": {
   "codemirror_mode": {
    "name": "ipython",
    "version": 3
   },
   "file_extension": ".py",
   "mimetype": "text/x-python",
   "name": "python",
   "nbconvert_exporter": "python",
   "pygments_lexer": "ipython3",
   "version": "3.9.12"
  }
 },
 "nbformat": 4,
 "nbformat_minor": 5
}
