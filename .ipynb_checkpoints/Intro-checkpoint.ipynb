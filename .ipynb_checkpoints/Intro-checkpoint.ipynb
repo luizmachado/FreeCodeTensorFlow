{
 "cells": [
  {
   "cell_type": "code",
   "execution_count": 29,
   "id": "4a154f12",
   "metadata": {},
   "outputs": [],
   "source": [
    "import tensorflow as tf\n",
    "import warnings\n",
    "warnings.filterwarnings('ignore')"
   ]
  },
  {
   "cell_type": "markdown",
   "id": "4632d8f6",
   "metadata": {},
   "source": [
    "# Tensor\n",
    "Tensores é a generialização de vetores e matrizes(arrays multidimencionais) para dimensoes potencialmente maiores.\n",
    "Os tensores possuem um \"Data Type\" uniforme e possuem um \"Shape\" que representa a dimensão do dado."
   ]
  },
  {
   "cell_type": "markdown",
   "id": "6af99659",
   "metadata": {},
   "source": [
    "## Criando um Tensor"
   ]
  },
  {
   "cell_type": "code",
   "execution_count": 30,
   "id": "ff8f8cef",
   "metadata": {},
   "outputs": [],
   "source": [
    "string = tf.Variable('Isto é uma string', tf.string)\n",
    "number = tf.Variable(324, tf.int16)\n",
    "floating = tf.Variable(3.567, tf.float64)"
   ]
  },
  {
   "cell_type": "markdown",
   "id": "b6722c16",
   "metadata": {},
   "source": [
    "## Classificação de Tensores\n",
    "Rank ou Degree é um termo que significa simplesmente o número de dimensões involvidas no tensor. Os tensores criados acima possuem um rank 0 e são chamados de escalares (scalar)."
   ]
  },
  {
   "cell_type": "code",
   "execution_count": 31,
   "id": "996bdb04",
   "metadata": {},
   "outputs": [],
   "source": [
    "rank1_tensor = tf.Variable(['Teste', 'ok', 'yes'], tf.string)\n",
    "rank2_tensor = tf.Variable([['teste', 'ok'], ['teste', 'positivo']], tf.string)"
   ]
  },
  {
   "cell_type": "code",
   "execution_count": 32,
   "id": "6989e913",
   "metadata": {},
   "outputs": [
    {
     "data": {
      "text/plain": [
       "<tf.Tensor: shape=(), dtype=int32, numpy=0>"
      ]
     },
     "execution_count": 32,
     "metadata": {},
     "output_type": "execute_result"
    }
   ],
   "source": [
    "tf.rank(string)"
   ]
  },
  {
   "cell_type": "code",
   "execution_count": 33,
   "id": "a3377ce7",
   "metadata": {},
   "outputs": [
    {
     "data": {
      "text/plain": [
       "<tf.Tensor: shape=(), dtype=int32, numpy=1>"
      ]
     },
     "execution_count": 33,
     "metadata": {},
     "output_type": "execute_result"
    }
   ],
   "source": [
    "tf.rank(rank1_tensor)"
   ]
  },
  {
   "cell_type": "code",
   "execution_count": 34,
   "id": "640e5ff8",
   "metadata": {},
   "outputs": [
    {
     "data": {
      "text/plain": [
       "<tf.Tensor: shape=(), dtype=int32, numpy=2>"
      ]
     },
     "execution_count": 34,
     "metadata": {},
     "output_type": "execute_result"
    }
   ],
   "source": [
    "tf.rank(rank2_tensor)"
   ]
  },
  {
   "cell_type": "markdown",
   "id": "f2d5d665",
   "metadata": {},
   "source": [
    "## Shape dos Tensores\n",
    "O Shape do tensor é a quantidade de elementos que existem em cada dimensão. Pode acontecer do shape ser unknown(desconhecido).  \n",
    "Shape é um atributo do objeto Tensor"
   ]
  },
  {
   "cell_type": "code",
   "execution_count": 35,
   "id": "3da67e0a",
   "metadata": {},
   "outputs": [
    {
     "data": {
      "text/plain": [
       "TensorShape([])"
      ]
     },
     "execution_count": 35,
     "metadata": {},
     "output_type": "execute_result"
    }
   ],
   "source": [
    "string.shape"
   ]
  },
  {
   "cell_type": "code",
   "execution_count": 36,
   "id": "cf3608be",
   "metadata": {},
   "outputs": [
    {
     "data": {
      "text/plain": [
       "TensorShape([3])"
      ]
     },
     "execution_count": 36,
     "metadata": {},
     "output_type": "execute_result"
    }
   ],
   "source": [
    "rank1_tensor.shape"
   ]
  },
  {
   "cell_type": "code",
   "execution_count": 37,
   "id": "2de1d9dd",
   "metadata": {},
   "outputs": [
    {
     "data": {
      "text/plain": [
       "TensorShape([2, 2])"
      ]
     },
     "execution_count": 37,
     "metadata": {},
     "output_type": "execute_result"
    }
   ],
   "source": [
    "rank2_tensor.shape"
   ]
  },
  {
   "cell_type": "markdown",
   "id": "3a9877de",
   "metadata": {},
   "source": [
    "## Alterando o shape\n",
    "A quantidade de elementos em um  tensor é o produto dos números do shape, As vezes existem shapes que possuem a mesma quantidade de elementos, o que torna conveniente a possibilidade de alterar o shape."
   ]
  },
  {
   "cell_type": "code",
   "execution_count": 38,
   "id": "74d8bbee",
   "metadata": {},
   "outputs": [],
   "source": [
    "tensor1 = tf.ones([1,2,3]) # tf.ones criará um tensor com o shape [1,2,3] populado com 1\n",
    "tensor2 = tf.reshape(tensor1, [2,3,1]) # alterar o shape para [2,3,1]\n",
    "tensor3 = tf.reshape(tensor2, [3, -1]) #-1 fará com que o tamanho da dimensão seja calculado automáticamente"
   ]
  },
  {
   "cell_type": "code",
   "execution_count": 39,
   "id": "5d655173",
   "metadata": {},
   "outputs": [
    {
     "name": "stdout",
     "output_type": "stream",
     "text": [
      "tf.Tensor(\n",
      "[[[1. 1. 1.]\n",
      "  [1. 1. 1.]]], shape=(1, 2, 3), dtype=float32)\n",
      "tf.Tensor(\n",
      "[[[1.]\n",
      "  [1.]\n",
      "  [1.]]\n",
      "\n",
      " [[1.]\n",
      "  [1.]\n",
      "  [1.]]], shape=(2, 3, 1), dtype=float32)\n",
      "tf.Tensor(\n",
      "[[1. 1.]\n",
      " [1. 1.]\n",
      " [1. 1.]], shape=(3, 2), dtype=float32)\n"
     ]
    }
   ],
   "source": [
    "print(tensor1)\n",
    "print(tensor2)\n",
    "print(tensor3)"
   ]
  },
  {
   "cell_type": "markdown",
   "id": "528f5290",
   "metadata": {},
   "source": [
    "## Tipos de Tensores\n",
    "Existem diferentes tipos de tensores, os mais utilizados são os seguintes:\n",
    "* Variable\n",
    "* Constant\n",
    "* Placeholder\n",
    "* Sparse Tensor\n",
    "Com excessão das Variáveis, todos os demais tensores são imutáveis, ou seja, não é possível alterá-los durante a execução."
   ]
  },
  {
   "cell_type": "markdown",
   "id": "282bddaf",
   "metadata": {},
   "source": [
    "## Avaliando Tensores\n",
    "Haverá a necessidade de vez em quando de avaliar um tensor, em outras palavras, obter o seu valor.  \n",
    "No código abaixo a avaliação do tensor será registrada em um gráfico padrão, existe a possíbilidade de criar o próprio gráfico, mas o padrão será o suficiente por enquanto.\n",
    "Existem diversas formas de fazer isso, mas nós faremos como descrito a seguir:  "
   ]
  },
  {
   "cell_type": "code",
   "execution_count": 40,
   "id": "23316c11",
   "metadata": {},
   "outputs": [
    {
     "name": "stdout",
     "output_type": "stream",
     "text": [
      "2.9.1\n"
     ]
    }
   ],
   "source": [
    "print(tf.__version__)"
   ]
  },
  {
   "cell_type": "code",
   "execution_count": 42,
   "id": "6a6597fb",
   "metadata": {},
   "outputs": [
    {
     "name": "stdout",
     "output_type": "stream",
     "text": [
      "<bound method _EagerTensorBase.eval of <tf.Tensor: shape=(1, 2, 3), dtype=float32, numpy=\n",
      "array([[[1., 1., 1.],\n",
      "        [1., 1., 1.]]], dtype=float32)>>\n"
     ]
    }
   ],
   "source": [
    "with tf.compat.v1.Session() as sess:\n",
    "    print(tensor1.eval)"
   ]
  },
  {
   "cell_type": "code",
   "execution_count": null,
   "id": "c9d03971",
   "metadata": {},
   "outputs": [],
   "source": []
  }
 ],
 "metadata": {
  "kernelspec": {
   "display_name": "Python 3 (ipykernel)",
   "language": "python",
   "name": "python3"
  },
  "language_info": {
   "codemirror_mode": {
    "name": "ipython",
    "version": 3
   },
   "file_extension": ".py",
   "mimetype": "text/x-python",
   "name": "python",
   "nbconvert_exporter": "python",
   "pygments_lexer": "ipython3",
   "version": "3.9.12"
  }
 },
 "nbformat": 4,
 "nbformat_minor": 5
}
