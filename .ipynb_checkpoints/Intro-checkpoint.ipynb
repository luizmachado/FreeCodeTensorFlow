{
 "cells": [
  {
   "cell_type": "code",
   "execution_count": 3,
   "id": "c1a329e6",
   "metadata": {},
   "outputs": [],
   "source": [
    "import tensorflow as tf\n",
    "import warnings\n",
    "warnings.filterwarnings('ignore')"
   ]
  },
  {
   "cell_type": "markdown",
   "id": "9bc43f84",
   "metadata": {},
   "source": [
    "# Tensor\n",
    "Tensores é a generialização de vetores e matrizes(arrays multidimencionais) para dimensoes potencialmente maiores.\n",
    "Os tensores possuem um \"Data Type\" uniforme e possuem um \"Shape\" que representa a dimensão do dado."
   ]
  },
  {
   "cell_type": "markdown",
   "id": "01911333",
   "metadata": {},
   "source": [
    "## Criando um Tensor"
   ]
  },
  {
   "cell_type": "code",
   "execution_count": 5,
   "id": "191312ca",
   "metadata": {},
   "outputs": [],
   "source": [
    "string = tf.Variable(\"Isto é uma string\", tf.string)\n",
    "number = tf.Variable(324, tf.int16)\n",
    "floating = tf.Variable(3.567, tf.float64)"
   ]
  },
  {
   "cell_type": "markdown",
   "id": "996df39e",
   "metadata": {},
   "source": [
    "## Classificação de Tensores\n",
    "Rank ou Degree é um termo que significa simplesmente o número de dimensões involvidas no tensor. Os tensores criados acima possuem um rank 0 e são chamados de escalares (scalar)."
   ]
  },
  {
   "cell_type": "code",
   "execution_count": 11,
   "id": "ea4b2df5",
   "metadata": {},
   "outputs": [],
   "source": [
    "rank1_tensor = tf.Variable([\"Teste\", \"ok\", \"yes\"], tf.string)\n",
    "rank2_tensor = tf.Variable([[\"teste\", \"ok\"], [\"teste\", \"positivo\"]], tf.string)"
   ]
  },
  {
   "cell_type": "code",
   "execution_count": 19,
   "id": "a44bb4b1",
   "metadata": {},
   "outputs": [
    {
     "data": {
      "text/plain": [
       "<tf.Tensor: shape=(), dtype=int32, numpy=0>"
      ]
     },
     "execution_count": 19,
     "metadata": {},
     "output_type": "execute_result"
    }
   ],
   "source": [
    "tf.rank(string)"
   ]
  },
  {
   "cell_type": "code",
   "execution_count": 17,
   "id": "fcadb4be",
   "metadata": {},
   "outputs": [
    {
     "data": {
      "text/plain": [
       "<tf.Tensor: shape=(), dtype=int32, numpy=1>"
      ]
     },
     "execution_count": 17,
     "metadata": {},
     "output_type": "execute_result"
    }
   ],
   "source": [
    "tf.rank(rank1_tensor)"
   ]
  },
  {
   "cell_type": "code",
   "execution_count": 18,
   "id": "d690858f",
   "metadata": {},
   "outputs": [
    {
     "data": {
      "text/plain": [
       "<tf.Tensor: shape=(), dtype=int32, numpy=2>"
      ]
     },
     "execution_count": 18,
     "metadata": {},
     "output_type": "execute_result"
    }
   ],
   "source": [
    "tf.rank(rank2_tensor)"
   ]
  },
  {
   "cell_type": "code",
   "execution_count": null,
   "id": "ab4bae50",
   "metadata": {},
   "outputs": [],
   "source": []
  }
 ],
 "metadata": {
  "kernelspec": {
   "display_name": "Python 3 (ipykernel)",
   "language": "python",
   "name": "python3"
  },
  "language_info": {
   "codemirror_mode": {
    "name": "ipython",
    "version": 3
   },
   "file_extension": ".py",
   "mimetype": "text/x-python",
   "name": "python",
   "nbconvert_exporter": "python",
   "pygments_lexer": "ipython3",
   "version": "3.9.12"
  }
 },
 "nbformat": 4,
 "nbformat_minor": 5
}
